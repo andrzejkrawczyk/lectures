{
 "cells": [
  {
   "cell_type": "markdown",
   "metadata": {
    "slideshow": {
     "slide_type": "slide"
    }
   },
   "source": [
    "Fixture - przygotowanie powtarzalnego środowiska do wykonywania testów. Przygotowanie danych, połączeń.\n",
    "\n",
    "Kolejność wyszukiwania fixtures:\n",
    "* klasy testowe\n",
    "* testowe moduły\n",
    "* conftest.py\n",
    "* pluginy"
   ]
  },
  {
   "cell_type": "code",
   "execution_count": null,
   "metadata": {
    "slideshow": {
     "slide_type": "subslide"
    }
   },
   "outputs": [],
   "source": [
    "# content of conftest.py -> wiele plików w folderze ma dostęp do tych danych\n",
    "import pytest\n",
    "\n",
    "\n",
    "@pytest.fixture(scope=\"function | class | module | package | session\", params=iterable<type>)\n",
    "def nazwa_fixture(request):\n",
    "    #Inicjalizacja fixture\n",
    "    yield \"zwrocenie_fixture i parametrów z iterable {}\".format(request.param)\n",
    "    #zakonczenie fixture"
   ]
  },
  {
   "cell_type": "code",
   "execution_count": null,
   "metadata": {
    "slideshow": {
     "slide_type": "subslide"
    }
   },
   "outputs": [],
   "source": [
    "# content of conftest.py -> wiele plików w folderze ma dostęp do tych danych\n",
    "import pytest\n",
    "\n",
    "\n",
    "@pytest.fixture(scope=\"function\")\n",
    "def factory_function(request):\n",
    "    def _fibonacci_generator(n):\n",
    "        a, b = 0, 1\n",
    "        for _ in range(n):\n",
    "            yield a\n",
    "            a, b = b, a + b\n",
    "    return _fibonacci_generator"
   ]
  },
  {
   "cell_type": "code",
   "execution_count": null,
   "metadata": {
    "slideshow": {
     "slide_type": "slide"
    }
   },
   "outputs": [],
   "source": [
    "# content of conftest.py\n",
    "\n",
    "import os\n",
    "import shutil\n",
    "import tempfile\n",
    "\n",
    "import pytest\n",
    "\n",
    "\n",
    "@pytest.fixture\n",
    "def cleandir():\n",
    "    old_cwd = os.getcwd()\n",
    "    newpath = tempfile.mkdtemp()\n",
    "    os.chdir(newpath)\n",
    "    yield 5\n",
    "    os.chdir(old_cwd)\n",
    "    shutil.rmtree(newpath)"
   ]
  },
  {
   "cell_type": "code",
   "execution_count": null,
   "metadata": {
    "slideshow": {
     "slide_type": "subslide"
    }
   },
   "outputs": [],
   "source": [
    "# content of test_setenv.py\n",
    "import os\n",
    "import pytest\n",
    "\n",
    "\n",
    "@pytest.mark.usefixtures(\"cleandir\")\n",
    "class TestDirectoryInit:\n",
    "    def test_cwd_starts_empty(self):\n",
    "        assert os.listdir(os.getcwd()) == []\n",
    "        with open(\"myfile\", \"w\") as f:\n",
    "            f.write(\"hello\")\n",
    "\n",
    "    def test_cwd_again_starts_empty(self):\n",
    "        assert os.listdir(os.getcwd()) == []"
   ]
  },
  {
   "cell_type": "markdown",
   "metadata": {
    "slideshow": {
     "slide_type": "slide"
    }
   },
   "source": [
    "* spy - owrapowanie funkcji i rekordowanie wszystkich wywołań, zachowań, bez modyfikacji oryginalnej funckji. Wywołanie oryginalnej funkcji\n",
    "* stub - oprogramowanie szpiega, aby miał zdefiniowane zachowanie pod testy\n",
    "* mock - stworzenie w runtimie obiektu, symulującego zachowanie + weryfikacja zachowania"
   ]
  },
  {
   "cell_type": "code",
   "execution_count": null,
   "metadata": {
    "slideshow": {
     "slide_type": "subslide"
    }
   },
   "outputs": [],
   "source": [
    "# https://docs.pytest.org/en/latest/reference.html#_pytest.monkeypatch.MonkeyPatch\n",
    "monkeypatch.setattr(obj, name, value, raising=True)\n",
    "monkeypatch.delattr(obj, name, raising=True)\n",
    "monkeypatch.setitem(mapping, name, value)\n",
    "monkeypatch.delitem(obj, name, raising=True)\n",
    "monkeypatch.setenv(name, value, prepend=False)\n",
    "monkeypatch.delenv(name, raising=True)\n",
    "monkeypatch.syspath_prepend(path)\n",
    "monkeypatch.chdir(path)"
   ]
  },
  {
   "cell_type": "code",
   "execution_count": null,
   "metadata": {
    "slideshow": {
     "slide_type": "subslide"
    }
   },
   "outputs": [],
   "source": [
    "from mock import patch, Mock, call\n",
    "\n",
    "@patch.object(ObjectToPatch, '_a', return_value=\"value\")\n",
    "@patch.object(ObjectToPatch, '_b', return_value=\"value\")\n",
    "@patch.object(ObjectToPatch, '_c', return_value=\"value\")\n",
    "@patch(\"python.module.function_in_module\", return_value=\"value\")\n",
    "def test_example_python_calls(\n",
    "        function_mock,\n",
    "        mock_c,\n",
    "        mock_b,\n",
    "        mock_a\n",
    "):\n",
    "    data = prepare_data()\n",
    "\n",
    "    manager = Mock()\n",
    "    manager.attach_mock(function_mock, 'function_mock')\n",
    "    manager.attach_mock(mock_c, '_c')\n",
    "    manager.attach_mock(mock_b, '_b')\n",
    "    manager.attach_mock(mock_a, '_a')\n",
    "    \n",
    "    expected_calls = [\n",
    "        call._c(),\n",
    "        call._b(mocked_request),\n",
    "        call._a(),\n",
    "    ]\n",
    "\n",
    "    tested_function(mocked_request)\n",
    "\n",
    "    assert manager.mock_calls == expected_calls"
   ]
  }
 ],
 "metadata": {
  "celltoolbar": "Slideshow",
  "kernelspec": {
   "display_name": "Python 2",
   "language": "python",
   "name": "python2"
  },
  "language_info": {
   "codemirror_mode": {
    "name": "ipython",
    "version": 2
   },
   "file_extension": ".py",
   "mimetype": "text/x-python",
   "name": "python",
   "nbconvert_exporter": "python",
   "pygments_lexer": "ipython2",
   "version": "2.7.15"
  }
 },
 "nbformat": 4,
 "nbformat_minor": 2
}

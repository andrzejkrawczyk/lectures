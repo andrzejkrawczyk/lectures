{
 "cells": [
  {
   "cell_type": "markdown",
   "metadata": {
    "slideshow": {
     "slide_type": "slide"
    }
   },
   "source": [
    "Warunki zaliczenia:\n",
    "* Egzamin >= 50%\n",
    "* Ćwiczenia - suma(laboratoria) >= 50%, projekt >= 50%\n",
    "* laboratoria - 5 punktowanych laboratoriów na zajęciach, zaliczenie ćwiczeń realizowanych w trakcie zajęć do końca semestru\n",
    "\n",
    "Konsultacje: mailowo lub po wcześniejszym kontakcie ->akrawczyk@pjwstk.edu.pl"
   ]
  },
  {
   "cell_type": "markdown",
   "metadata": {
    "slideshow": {
     "slide_type": "subslide"
    }
   },
   "source": [
    "Pytest\n",
    "* wykrywanie testów przez prefix test -> w nazwach plików, funkcji, klas\n",
    "* wykorzystywanie samych assertów do generacji wyników testów\n",
    "* architektura pluginowa\n",
    "* grupowanie logicznie zestawu testów w klasach"
   ]
  },
  {
   "cell_type": "code",
   "execution_count": 2,
   "metadata": {
    "slideshow": {
     "slide_type": "slide"
    }
   },
   "outputs": [
    {
     "name": "stdout",
     "output_type": "stream",
     "text": [
      "112222\n"
     ]
    }
   ],
   "source": [
    "def calc(a, b):\n",
    "    return 2 * a + 4 * b\n",
    "\n",
    "def test_foo():\n",
    "    result = calc(5, 10)\n",
    "    \n",
    "    assert result == 20\n",
    "    \n",
    "print(2 * \"1\" + 4 * \"2\")"
   ]
  },
  {
   "cell_type": "code",
   "execution_count": null,
   "metadata": {
    "slideshow": {
     "slide_type": "slide"
    }
   },
   "outputs": [],
   "source": [
    "# given when then\n",
    "# given conditions when action then expected result\n",
    "\n",
    "def test_given_sorting_parity_when_array_is_empty_then_returns_empty_array_and_does_nothing():\n",
    "    input_data = []\n",
    "    \n",
    "    result = parity_sort(input_data)\n",
    "    \n",
    "    assert expected_result == result"
   ]
  },
  {
   "cell_type": "code",
   "execution_count": null,
   "metadata": {
    "slideshow": {
     "slide_type": "subslide"
    }
   },
   "outputs": [],
   "source": [
    "# Nazewnictwo - przykład z karmy\n",
    "  it('should return 3 for 1 + 2', function() {\n",
    "    document.getElementById('x').value = 1;\n",
    "    document.getElementById('y').value = 2;\n",
    "    document.getElementById('add').click();\n",
    "    expect(document.getElementById('result').innerHTML).toBe('3');\n",
    "  });"
   ]
  },
  {
   "cell_type": "code",
   "execution_count": null,
   "metadata": {
    "slideshow": {
     "slide_type": "slide"
    }
   },
   "outputs": [],
   "source": [
    "def foo():\n",
    "    raise TypeError\n",
    "\n",
    "def test_test_exception():\n",
    "    with pytest.raises(TypeError):\n",
    "        foo()"
   ]
  },
  {
   "cell_type": "code",
   "execution_count": null,
   "metadata": {
    "slideshow": {
     "slide_type": "subslide"
    }
   },
   "outputs": [],
   "source": [
    "# TestSuite\n",
    "def example_func(numbers):\n",
    "    if len(numbers) == 0:\n",
    "        return []\n",
    "    \n",
    "    return [x ** 2 for x in numbers]\n",
    "\n",
    "class TestExampleFunc():\n",
    "    \n",
    "    def test_given_numbers_is_empty_array_when_called_then_returns_empty_array(self):\n",
    "        input_data = []\n",
    "        expected_result = []\n",
    "        \n",
    "        result = example_func(input_data)\n",
    "        \n",
    "        assert result == expected_result\n",
    "\n",
    "    def test_given_numbers_array_when_called_then_returns_array_of_numbers_to_power_2(self):\n",
    "        input_data = list(range(10))\n",
    "        expected_result = [x ** 2 for x in range(10)]\n",
    "        \n",
    "        result = example_func(input_data)\n",
    "        \n",
    "        assert result == expected_result\n",
    "        "
   ]
  }
 ],
 "metadata": {
  "celltoolbar": "Slideshow",
  "kernelspec": {
   "display_name": "Python 2",
   "language": "python",
   "name": "python2"
  },
  "language_info": {
   "codemirror_mode": {
    "name": "ipython",
    "version": 2
   },
   "file_extension": ".py",
   "mimetype": "text/x-python",
   "name": "python",
   "nbconvert_exporter": "python",
   "pygments_lexer": "ipython2",
   "version": "2.7.15"
  },
  "pycharm": {
   "stem_cell": {
    "cell_type": "raw",
    "source": [],
    "metadata": {
     "collapsed": false
    }
   }
  }
 },
 "nbformat": 4,
 "nbformat_minor": 2
}
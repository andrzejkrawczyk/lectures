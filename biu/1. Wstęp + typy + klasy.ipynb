{
 "cells": [
  {
   "cell_type": "markdown",
   "metadata": {
    "slideshow": {
     "slide_type": "slide"
    }
   },
   "source": [
    "* wykład 30h\n",
    "* ćwiczenia 30h\n",
    "* akrawczyk@pjwstk.edu.pl - maile z tagiem [BIU]\n",
    "* Zasady zaliczenia:\n",
    "* Wykład egzamin min. 50%\n",
    "* Ćwiczenia = 100% = laboratoria + projekt\n",
    "* laboratoria na min 50% (suma punktowanych laboratoriów  >= 50%)\n",
    "* projekt na min 50%\n",
    "* dodatkowe punkty za aktywność, do słabiej ocenaniej części przedmiotu\n"
   ]
  },
  {
   "cell_type": "markdown",
   "metadata": {
    "slideshow": {
     "slide_type": "slide"
    }
   },
   "source": [
    "# Typy\n",
    "* statyczne\n",
    "* dynamiczne\n",
    "* silne\n",
    "* słabe\n",
    "* inferencja typów"
   ]
  },
  {
   "cell_type": "markdown",
   "metadata": {
    "slideshow": {
     "slide_type": "subslide"
    }
   },
   "source": [
    "* undefined\n",
    "* null\n",
    "* NaN"
   ]
  },
  {
   "cell_type": "code",
   "execution_count": null,
   "metadata": {
    "slideshow": {
     "slide_type": "subslide"
    }
   },
   "outputs": [],
   "source": [
    "[] + []"
   ]
  },
  {
   "cell_type": "code",
   "execution_count": null,
   "metadata": {
    "scrolled": true,
    "slideshow": {
     "slide_type": "subslide"
    }
   },
   "outputs": [],
   "source": [
    "\"2\" * 10\n"
   ]
  },
  {
   "cell_type": "code",
   "execution_count": null,
   "metadata": {
    "slideshow": {
     "slide_type": "subslide"
    }
   },
   "outputs": [],
   "source": [
    "typeof(\"2\" * 10)"
   ]
  },
  {
   "cell_type": "code",
   "execution_count": null,
   "metadata": {
    "slideshow": {
     "slide_type": "subslide"
    }
   },
   "outputs": [],
   "source": [
    "if (\"2\" > 1) {\n",
    "    console.log(\"Dwa większe od 1\")\n",
    "}"
   ]
  },
  {
   "cell_type": "code",
   "execution_count": null,
   "metadata": {
    "slideshow": {
     "slide_type": "subslide"
    }
   },
   "outputs": [],
   "source": [
    "10 * \"2\""
   ]
  },
  {
   "cell_type": "code",
   "execution_count": null,
   "metadata": {
    "slideshow": {
     "slide_type": "subslide"
    }
   },
   "outputs": [],
   "source": [
    "[] + {}"
   ]
  },
  {
   "cell_type": "code",
   "execution_count": null,
   "metadata": {
    "slideshow": {
     "slide_type": "subslide"
    }
   },
   "outputs": [],
   "source": [
    "{} + []"
   ]
  },
  {
   "cell_type": "code",
   "execution_count": null,
   "metadata": {
    "slideshow": {
     "slide_type": "subslide"
    }
   },
   "outputs": [],
   "source": [
    "{} + {}"
   ]
  },
  {
   "cell_type": "markdown",
   "metadata": {
    "slideshow": {
     "slide_type": "slide"
    }
   },
   "source": [
    "# Programowanie obiektowe - jakie cele?"
   ]
  },
  {
   "cell_type": "markdown",
   "metadata": {
    "slideshow": {
     "slide_type": "subslide"
    }
   },
   "source": [
    "* abstrakcja danych\n",
    "* polimorfizm\n",
    "* reużywalność kodu"
   ]
  },
  {
   "cell_type": "markdown",
   "metadata": {
    "slideshow": {
     "slide_type": "subslide"
    }
   },
   "source": [
    "* Obiekt - paczka kodu z polami instancji i kodem (metody)\n",
    "* Typ obiektu - opis struktury obiektu\n",
    "* Klasa - sposób opisu kolekcji i generacji obiektów tego samego typu\n",
    "* Podtyp - formowany przez rozbudowanie (interfejsu) innego typu - oznacza dodanie nowych właściwości / metod\n",
    "* Podklasa - rozbudowywanie klasy nadrzędnej przez inkrementacyjne dodawanie nowego kodu (nadaje sens słówku kluczowemu super)\n",
    "* Polimorfizm - abstrakcja typu od zachowania\n",
    "\n"
   ]
  },
  {
   "cell_type": "code",
   "execution_count": null,
   "metadata": {
    "slideshow": {
     "slide_type": "subslide"
    }
   },
   "outputs": [],
   "source": [
    "TypObiektu TypKwadrat is\n",
    "   var x: Integer;\n",
    "   var y: Integer;\n",
    "   method pole(): Integer;\n",
    "   method setX(Integer): Integer;\n",
    "end;"
   ]
  },
  {
   "cell_type": "code",
   "execution_count": null,
   "metadata": {
    "slideshow": {
     "slide_type": "subslide"
    }
   },
   "outputs": [],
   "source": [
    "object punkt: TypKwadrat is \n",
    "    var x: Integer := 1;\n",
    "    var y: Integer := 2;\n",
    "    method pole(): Integer is \n",
    "        return self.x * self.y \n",
    "    end; \n",
    "    method setX(n: Integer) is \n",
    "        self.x := n \n",
    "    end;\n",
    "end;"
   ]
  },
  {
   "cell_type": "code",
   "execution_count": null,
   "metadata": {
    "slideshow": {
     "slide_type": "subslide"
    }
   },
   "outputs": [],
   "source": [
    "class Kwadrat for TypKwadrat is \n",
    "    var x: Integer := 0; \n",
    "    var y: Integer := 0;\n",
    "    method pole(): Integer is \n",
    "        return self.x * self.y \n",
    "    end; \n",
    "    method setX(n: Integer) is \n",
    "        self.x := n \n",
    "    end; \n",
    "end; \n",
    "var punkt: TypKwadrat := new Kwadrat; \n",
    "procedure doubleX(k: TypKwadrat) is \n",
    "    k.setX(2 * k.pole()); \n",
    "end"
   ]
  },
  {
   "cell_type": "raw",
   "metadata": {},
   "source": [
    "Prototyp - obiekt, który opisuje obiekty i jest obiektem\n",
    "Obiekty prototypowe są klonami prototypów"
   ]
  },
  {
   "cell_type": "code",
   "execution_count": null,
   "metadata": {
    "slideshow": {
     "slide_type": "subslide"
    }
   },
   "outputs": [],
   "source": [
    "function Square(x, y) {\n",
    "    return {\n",
    "        x: x,\n",
    "        y: y,\n",
    "        field: function field() {\n",
    "            return this.x * this.y;\n",
    "        }\n",
    "    };\n",
    "}\n",
    "\n",
    "var x = Square(3, 3);\n",
    "console.log(x.field());"
   ]
  },
  {
   "cell_type": "code",
   "execution_count": null,
   "metadata": {
    "slideshow": {
     "slide_type": "subslide"
    }
   },
   "outputs": [],
   "source": [
    "function Square(x, y) {\n",
    "    var self = this;\n",
    "    self.x = x;\n",
    "    self.y = y;\n",
    "    self.field = function field() {\n",
    "        return self.x * self.y;\n",
    "    }\n",
    "}\n",
    "\n",
    "var x = new Square(4, 4);\n",
    "console.log(x.field());"
   ]
  },
  {
   "cell_type": "code",
   "execution_count": null,
   "metadata": {
    "slideshow": {
     "slide_type": "subslide"
    }
   },
   "outputs": [],
   "source": [
    "function Square(x, y) {\n",
    "    this.x = x;\n",
    "    this.y = y;\n",
    "}\n",
    "\n",
    "Square.prototype.field = function field() {\n",
    "    return this.x * this.y;\n",
    "}\n",
    "\n",
    "var x = new Square(2, 5);\n",
    "console.log(x.field());"
   ]
  },
  {
   "cell_type": "code",
   "execution_count": null,
   "metadata": {
    "slideshow": {
     "slide_type": "subslide"
    }
   },
   "outputs": [],
   "source": [
    "function Rectangle(x, y) {\n",
    "    Square.call(this, x, y);\n",
    "}\n",
    "\n",
    "Rectangle.prototype = Object.create(Square.prototype);\n",
    "Rectangle.prototype.constructor=Rectangle;\n",
    "\n",
    "Rectangle.prototype.longerParam = function () {\n",
    "    if (this.x > this.y) {\n",
    "        return this.x;\n",
    "    }\n",
    "    \n",
    "    return this.y;\n",
    "}\n",
    "\n",
    "var x = new Rectangle(2,5);\n",
    "console.log(x.field());\n",
    "console.log(x.longerParam());\n",
    "var y = new Square(2, 5);\n",
    "console.log(y.longerParam());"
   ]
  },
  {
   "cell_type": "code",
   "execution_count": null,
   "metadata": {
    "slideshow": {
     "slide_type": "subslide"
    }
   },
   "outputs": [],
   "source": [
    "console.log(typeof x);\n",
    "console.log(typeof y);\n",
    "console.log(x instanceof Rectangle);\n",
    "console.log(x instanceof Square);\n",
    "console.log(y instanceof Square);\n",
    "console.log(y instanceof Rectangle);"
   ]
  },
  {
   "cell_type": "code",
   "execution_count": null,
   "metadata": {
    "slideshow": {
     "slide_type": "slide"
    }
   },
   "outputs": [],
   "source": [
    "(function (window) {\n",
    "    function increasePower(p) {\n",
    "        return p * 2;\n",
    "    }\n",
    "    \n",
    "    \n",
    "    var x = function NewModule() {};\n",
    "    \n",
    "    x.abs = function (num) {\n",
    "        if (num < 0) {\n",
    "            return num * -1;\n",
    "        }\n",
    "        return num;\n",
    "    }\n",
    "    \n",
    "    x.powerToSquare = function (num, power) {\n",
    "        return Math.pow(num, increasePower(2));\n",
    "    }\n",
    "    \n",
    "    window.MyMathModule = x;\n",
    "})(global);\n",
    "\n",
    "console.log(global.MyMathModule.abs(-5));\n",
    "console.log(global.MyMathModule.powerToSquare(2));\n",
    "console.log(global.MyMathModule.increasePower(2));"
   ]
  },
  {
   "cell_type": "markdown",
   "metadata": {
    "slideshow": {
     "slide_type": "subslide"
    }
   },
   "source": [
    "# Automatic semicolon insertion\n",
    "* wstawianie przez parser JS średnik w miejscu gdzie powinien być a wykrył błąd"
   ]
  },
  {
   "cell_type": "code",
   "execution_count": null,
   "metadata": {
    "slideshow": {
     "slide_type": "subslide"
    }
   },
   "outputs": [],
   "source": [
    "(function (window) {\n",
    "    function increasePower(p) {\n",
    "        return p * 2;\n",
    "    }\n",
    "    \n",
    "    \n",
    "    var x = function NewModule() {};\n",
    "    \n",
    "    x.abs = function (num) {\n",
    "        if (num < 0) {\n",
    "            return {value: num * -1};\n",
    "        }\n",
    "        return {\n",
    "            value: num\n",
    "        }\n",
    "    }\n",
    "    \n",
    "    x.powerToSquare = function (num, power) {\n",
    "        return Math.pow(num, increasePower(2));\n",
    "    }\n",
    "    \n",
    "    window.MyMathModule = x;\n",
    "})(global);\n",
    "\n",
    "console.log(global.MyMathModule.abs(-5));\n",
    "console.log(global.MyMathModule.abs(6));"
   ]
  },
  {
   "cell_type": "code",
   "execution_count": null,
   "metadata": {
    "slideshow": {
     "slide_type": "slide"
    }
   },
   "outputs": [],
   "source": [
    "function generateClosure(i) {\n",
    "    var data = i;\n",
    "    return function foo() {\n",
    "        data = data + 1;\n",
    "        return data;\n",
    "    }\n",
    "}\n",
    "\n",
    "var x = generateClosure(5);\n",
    "var y = generateClosure(1);\n",
    "\n",
    "console.log(x());\n",
    "console.log(x());\n",
    "console.log(y());\n",
    "console.log(y());"
   ]
  },
  {
   "cell_type": "code",
   "execution_count": null,
   "metadata": {
    "slideshow": {
     "slide_type": "subslide"
    }
   },
   "outputs": [],
   "source": [
    "console.log(x());\n",
    "console.log(x());\n",
    "console.log(y());\n",
    "console.log(y());"
   ]
  }
 ],
 "metadata": {
  "celltoolbar": "Slideshow",
  "kernelspec": {
   "display_name": "Javascript (Node.js)",
   "language": "javascript",
   "name": "javascript"
  },
  "language_info": {
   "file_extension": ".js",
   "mimetype": "application/javascript",
   "name": "javascript",
   "version": "10.13.0"
  }
 },
 "nbformat": 4,
 "nbformat_minor": 2
}

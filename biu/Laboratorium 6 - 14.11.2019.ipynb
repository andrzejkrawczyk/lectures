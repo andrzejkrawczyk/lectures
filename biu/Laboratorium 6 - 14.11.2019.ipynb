{
 "cells": [
  {
   "cell_type": "markdown",
   "metadata": {},
   "source": [
    "Reactive Forms [14 pkt]\n",
    "\n",
    "* stwórz formularz w stylu wizard, składający się z 4 kroków, do składania ofert zakupu mieszkania\n",
    "* możliwość przejścia do następnego kroku, gdy użytkownik wprowadzi wszystkie pola poprawnie w krokach poprzednich [1 pkt]\n",
    "* krok 1 - wprowadzanie danych personalnych imię, nazwisko, email, telefon, adres zamieszkania [1 pkt]\n",
    "* adres zamieszkania jako podgrupa, pola: ulica, kod pocztowy, miejscowość [1 pkt]\n",
    "* krok 1 - walidatory dla każdego pola zgodnie z ich przeznaczeniem [1 pkt]\n",
    "* walidator dla telefonu (+48XXX-YYY-ZZZ) [1 pkt]\n",
    "* walidator dla kodu pocztowego [1 pkt] \n",
    "* adres zamieszkania jako osobny komponent [1 pkt]\n",
    "* krok 2 - wprowadzanie adresu zakupowanego mieszkania, pola: adres zamieszkania, select box - sposób zakupu za gotówkę czy kredyt, pole do wpisania metrażu, ceny za metr, piętro, stan deweloperski czy rynek wtórny - [1 pkt]\n",
    "* krok 3 - ekran zakupu materaca oraz pokrowca na materac do mieszkania wraz z mieszkaniem - [1 pkt]\n",
    "* krok 3 - rozmiar materaca, rozmiar pokrowca, nazwa, typ, firma, czy chcę dokupić, wypisanie ceny po wyborze materaca / pokrowca - [1 pkt]\n",
    "* krok 3 - walidator, który sprawdza czy rozmiar materaca i pokrowca się zgadza - [1 pkt]\n",
    "* krok 4 - podsumowanie oferty z kroku 1, 2, 3 z obliczeniem finalnej ceny - [1 pkt]\n",
    "* krok 4 - pole do wpisania uwagi i komentarza - [1 pkt]\n",
    "* widok do wypisywania złożonych ofert - [1 pkt]\n"
   ]
  }
 ],
 "metadata": {
  "kernelspec": {
   "display_name": "Python 2",
   "language": "python",
   "name": "python2"
  },
  "language_info": {
   "codemirror_mode": {
    "name": "ipython",
    "version": 2
   },
   "file_extension": ".py",
   "mimetype": "text/x-python",
   "name": "python",
   "nbconvert_exporter": "python",
   "pygments_lexer": "ipython2",
   "version": "2.7.15"
  }
 },
 "nbformat": 4,
 "nbformat_minor": 2
}

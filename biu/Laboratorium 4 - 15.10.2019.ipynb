{
 "cells": [
  {
   "cell_type": "markdown",
   "metadata": {},
   "source": [
    "# Strona do zarządzania produktem - okulary [14 pkt]\n",
    "\n",
    "* brak any\n",
    "* brak modeli danych wpisanych tak po prostu - wszystko powinno posiadać typ / interfejs / klasę [1 pkt]\n",
    "* użycie template forms [1 pkt]\n",
    "* dodanie guarda z niedostępnym produktem do szczegółów produktu [1 pkt]\n",
    "* osobny widok do dodawania produktu [1 pkt]\n",
    "* użycie validatorów - min. 3 różnych [1 pkt]\n",
    "* dodanie widoku z szczegółami produktu na podstawie ID [1 pkt]\n",
    "* dodanie widoku do zarządzania dostępnością produktu (jest dostępny / nie jest dostępny) [1 pkt]\n",
    "* strona do zarządzania okularami i oprawkami do okularów - produkty składające się z 5 wybranych atrybutów (w tym cena) [1 pkt]\n",
    "* stworzenie serwisu do zarządzania produktami i wstrzykiwanie serwisu do widoków [1 pkt]\n",
    "\n",
    "Strona z raportem cen maksymalnych, minimalnych, średniej cen [3 pkt]\n",
    "* raport jako osobny moduł w plikacji [1 pkt]\n",
    "\n",
    "Grupy:\n",
    "\n",
    "1. podziałem na produkty dostępne / niedostępne [1 pkt]\n",
    "2. podziałem na miesiące dodania produktu [1 pkt]\n",
    "3. podziałem na marki i typy produktów [1 pkt]\n",
    "\n"
   ]
  }
 ],
 "metadata": {
  "kernelspec": {
   "display_name": "Python 2",
   "language": "python",
   "name": "python2"
  },
  "language_info": {
   "codemirror_mode": {
    "name": "ipython",
    "version": 2
   },
   "file_extension": ".py",
   "mimetype": "text/x-python",
   "name": "python",
   "nbconvert_exporter": "python",
   "pygments_lexer": "ipython2",
   "version": "2.7.15"
  }
 },
 "nbformat": 4,
 "nbformat_minor": 2
}

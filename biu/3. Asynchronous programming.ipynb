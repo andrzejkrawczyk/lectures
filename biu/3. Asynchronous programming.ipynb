{
 "cells": [
  {
   "cell_type": "markdown",
   "metadata": {
    "slideshow": {
     "slide_type": "slide"
    }
   },
   "source": [
    "# Różnica między wątkiem a procesem?"
   ]
  },
  {
   "cell_type": "markdown",
   "metadata": {
    "slideshow": {
     "slide_type": "subslide"
    }
   },
   "source": [
    "* Wiele wątków może istnieć w jednym procesie\n",
    "* zasoby są przypisywane do procesu a nie do wątku\n",
    "* procesy są niezależne od siebie"
   ]
  },
  {
   "cell_type": "markdown",
   "metadata": {
    "slideshow": {
     "slide_type": "slide"
    }
   },
   "source": [
    "<center> <h1>Model synchroniczny </h1>\n",
    "<br>\n",
    "   <img src=\"./assets/synchronous_model.jpg\">    \n",
    "</center>"
   ]
  },
  {
   "cell_type": "markdown",
   "metadata": {
    "slideshow": {
     "slide_type": "subslide"
    }
   },
   "source": [
    "<center> <h1>Model wielowątkowy </h1>\n",
    "<br>\n",
    "   <img src=\"./assets/threaded_model.jpg\">    \n",
    "</center>"
   ]
  },
  {
   "cell_type": "markdown",
   "metadata": {
    "slideshow": {
     "slide_type": "subslide"
    }
   },
   "source": [
    "<center> <h1>Model Asynchroniczny </h1>\n",
    "<br>\n",
    "<img src=\"./assets/async_io_model.jpg\">\n",
    "\n",
    "</center> "
   ]
  },
  {
   "cell_type": "markdown",
   "metadata": {
    "slideshow": {
     "slide_type": "subslide"
    }
   },
   "source": [
    "<center><h1>JavaScript Event Loop</h1>\n",
    "<br>\n",
    "<img src=\"./assets/js_event_loop.jpg\"> \n",
    "\n",
    "</center>"
   ]
  },
  {
   "cell_type": "markdown",
   "metadata": {
    "slideshow": {
     "slide_type": "slide"
    }
   },
   "source": [
    "# Deferred\n",
    "* implementacja: https://api.jquery.com/category/deferred-object/\n",
    "* .then()\n",
    "* .fail()\n",
    "* .done()\n",
    "* .always()\n",
    "* .resolve()\n",
    "* .reject()\n",
    "* chaining\n"
   ]
  },
  {
   "cell_type": "markdown",
   "metadata": {
    "slideshow": {
     "slide_type": "subslide"
    }
   },
   "source": [
    "### Synchronizacja\n",
    "Przykład: https://api.jquery.com/Deferred.promise/"
   ]
  },
  {
   "cell_type": "code",
   "execution_count": null,
   "metadata": {
    "slideshow": {
     "slide_type": "subslide"
    }
   },
   "outputs": [],
   "source": [
    "function asyncEvent() {\n",
    "  var dfd = jQuery.Deferred();\n",
    " \n",
    "  // Resolve after a random interval\n",
    "  setTimeout(function() {\n",
    "    dfd.resolve( \"hurray\" );\n",
    "  }, Math.floor( 400 + Math.random() * 2000 ) );\n",
    " \n",
    "  // Reject after a random interval\n",
    "  setTimeout(function() {\n",
    "    dfd.reject( \"sorry\" );\n",
    "  }, Math.floor( 400 + Math.random() * 2000 ) );\n",
    " \n",
    "  // Show a \"working...\" message every half-second\n",
    "  setTimeout(function working() {\n",
    "    if ( dfd.state() === \"pending\" ) {\n",
    "      dfd.notify( \"working... \" );\n",
    "      setTimeout( working, 500 );\n",
    "    }\n",
    "  }, 1 );\n",
    " \n",
    "  // Return the Promise so caller can't change the Deferred\n",
    "  return dfd.promise();\n",
    "}"
   ]
  },
  {
   "cell_type": "code",
   "execution_count": null,
   "metadata": {
    "slideshow": {
     "slide_type": "subslide"
    }
   },
   "outputs": [],
   "source": [
    "$.when( asyncEvent() ).then(\n",
    "  function( status ) {\n",
    "    alert( status + \", things are going well\" );\n",
    "  },\n",
    "  function( status ) {\n",
    "    alert( status + \", you fail this time\" );\n",
    "  },\n",
    "  function( status ) {\n",
    "    $( \"body\" ).append( status );\n",
    "  }\n",
    ");"
   ]
  },
  {
   "cell_type": "markdown",
   "metadata": {
    "slideshow": {
     "slide_type": "slide"
    }
   },
   "source": [
    "# Promise\n",
    "* https://developer.mozilla.org/pl/docs/Web/JavaScript/Referencje/Obiekty/Promise\n"
   ]
  },
  {
   "cell_type": "code",
   "execution_count": null,
   "metadata": {
    "slideshow": {
     "slide_type": "subslide"
    }
   },
   "outputs": [],
   "source": [
    "function myAsyncFunction(url) {\n",
    "  return new Promise((resolve, reject) => {\n",
    "    const xhr = new XMLHttpRequest();\n",
    "    xhr.open(\"GET\", url);\n",
    "    xhr.onload = () => resolve(xhr.responseText);\n",
    "    xhr.onerror = () => reject(xhr.statusText);\n",
    "    xhr.send();\n",
    "  });\n",
    "}"
   ]
  },
  {
   "cell_type": "code",
   "execution_count": null,
   "metadata": {
    "slideshow": {
     "slide_type": "subslide"
    }
   },
   "outputs": [],
   "source": [
    "var promise1 = new Promise(function(resolve, reject) {\n",
    "  setTimeout(function() {\n",
    "    resolve('foo');\n",
    "  }, 300);\n",
    "});\n",
    "\n",
    "promise1.then(function(value) {\n",
    "  console.log(value);\n",
    "});\n",
    "\n",
    "console.log(promise1);"
   ]
  },
  {
   "cell_type": "markdown",
   "metadata": {
    "slideshow": {
     "slide_type": "slide"
    }
   },
   "source": [
    "# RxJS\n",
    "* https://www.learnrxjs.io\n",
    "* https://rxjs-dev.firebaseapp.com/\n",
    "* relacja producent -> konsument\n",
    "* obiekt, który produkuje elementy -> jeden albo więcej, może też nieskończoność\n",
    "* tymczasowo podpięci subskrybenci (konsumenci) streamingu wydarzeń"
   ]
  },
  {
   "cell_type": "markdown",
   "metadata": {
    "slideshow": {
     "slide_type": "subslide"
    }
   },
   "source": [
    "* Observable - strumień danych, emitujące dane\n",
    "* Może być asynchroniczny lub synchroniczny\n",
    "* Zwraca 1...N wartości\n",
    "* można anulować subskrypcję\n",
    "* powinniśmy importować tylko to co potrzebujemy, a nie wszystkie operatory\n",
    "* nieużywane observable powinny ulec unsubscribe!"
   ]
  },
  {
   "cell_type": "markdown",
   "metadata": {
    "slideshow": {
     "slide_type": "subslide"
    }
   },
   "source": [
    "### Cold Observables\n",
    "* emitują wartości gdy ktoś zrobi subscribe()\n",
    "* zawsze zwracają wartości dla subskrybentów od początku\n",
    "* httpClient.get"
   ]
  },
  {
   "cell_type": "markdown",
   "metadata": {
    "slideshow": {
     "slide_type": "subslide"
    }
   },
   "source": [
    "### Hot Observables\n",
    "* produkują wartości bez subskrybentów\n",
    "* współdzielą zasoby\n",
    "* np. Observable z eventu: fromEvent"
   ]
  },
  {
   "cell_type": "code",
   "execution_count": null,
   "metadata": {
    "slideshow": {
     "slide_type": "subslide"
    }
   },
   "outputs": [],
   "source": [
    "const hello$ = Observable.create(function(observer) {\n",
    "  observer.next('Hello');\n",
    "  observer.next('World');\n",
    "  observer.complete();\n",
    "});\n",
    "\n",
    "hello.subscribe(\n",
    "    next(response) {}, // obsługa każdej dostarczanej wartości\n",
    "    error(err) {}, // obsługa błędów\n",
    "    complete() () // obsluga zakończenia observable'a\n",
    ")"
   ]
  },
  {
   "cell_type": "code",
   "execution_count": null,
   "metadata": {
    "slideshow": {
     "slide_type": "subslide"
    }
   },
   "outputs": [],
   "source": [
    "const fromValues$ = of(1, 'ala', 3);\n",
    "const fromArray$ = from([1, 2, 3]);\n",
    "\n",
    "new Observable((observer) => {\n",
    "  observer.next(1);\n",
    "  observer.next(2);\n",
    "  observer.next(3);\n",
    "  observer.complete();  \n",
    "})"
   ]
  },
  {
   "cell_type": "code",
   "execution_count": null,
   "metadata": {
    "slideshow": {
     "slide_type": "subslide"
    }
   },
   "outputs": [],
   "source": [
    "fromValues$.pipe(\n",
    "    map((n) => n*2),//operator1\n",
    "    filter((n) => n % 2),//operator2\n",
    "    tap((n) => debugger;)//operator3\n",
    ")"
   ]
  },
  {
   "cell_type": "markdown",
   "metadata": {
    "slideshow": {
     "slide_type": "subslide"
    }
   },
   "source": [
    "* pipe - pozwala na observable transformować strumień danych, zanim trafią do funkcji w subscribe\n",
    "* można chainować pipe'y\n",
    "* map\n",
    "* filter\n",
    "* tap\n",
    "* first, last\n",
    "* merge, forkJoin, startWith\n",
    "* catchError\n"
   ]
  },
  {
   "cell_type": "markdown",
   "metadata": {
    "slideshow": {
     "slide_type": "slide"
    }
   },
   "source": [
    "# HttpClient\n",
    "* https://api.arcsecond.io/swagger/\n",
    "* https://github.com/public-apis/\n",
    "* API z paginacją: https://www.openbrewerydb.org\n",
    "* serwis injectowany - dostępny w angularze\n",
    "* ` constructor(private http: HttpClient) { } `\n",
    "* zwraca observable"
   ]
  },
  {
   "cell_type": "code",
   "execution_count": null,
   "metadata": {
    "slideshow": {
     "slide_type": "subslide"
    }
   },
   "outputs": [],
   "source": [
    "import { NgModule }         from '@angular/core';\n",
    "import { BrowserModule }    from '@angular/platform-browser';\n",
    "import { HttpClientModule } from '@angular/common/http';\n",
    "\n",
    "@NgModule({\n",
    "  imports: [\n",
    "    BrowserModule,\n",
    "    HttpClientModule, // !\n",
    "  ],\n",
    "  declarations: [\n",
    "    AppComponent,\n",
    "  ],\n",
    "  bootstrap: [ AppComponent ]\n",
    "})\n",
    "export class AppModule {}"
   ]
  },
  {
   "cell_type": "code",
   "execution_count": null,
   "metadata": {
    "slideshow": {
     "slide_type": "subslide"
    }
   },
   "outputs": [],
   "source": [
    "interface Type {\n",
    "    someData1: string;\n",
    "    someData2: number;\n",
    "} \n",
    "\n",
    "const url = \"someAPiEndpoint\"\n",
    "const request = this.http.get<Type>(url);\n",
    "this.subscribe((data: Type) => {\n",
    "    console.log(data)\n",
    "})\n",
    "this.http.get<Type>(url, { observe: 'response' });"
   ]
  },
  {
   "cell_type": "markdown",
   "metadata": {
    "slideshow": {
     "slide_type": "subslide"
    }
   },
   "source": [
    "* {responseType: 'text'} \n",
    "* `const httpOptions = {\n",
    "  headers: new HttpHeaders({\n",
    "    'Content-Type':  'application/json',\n",
    "    'Authorization': 'my-auth-token'\n",
    "  })\n",
    "};`"
   ]
  }
 ],
 "metadata": {
  "celltoolbar": "Slideshow",
  "kernelspec": {
   "display_name": "Javascript (Node.js)",
   "language": "javascript",
   "name": "javascript"
  },
  "language_info": {
   "file_extension": ".js",
   "mimetype": "application/javascript",
   "name": "javascript",
   "version": "10.13.0"
  }
 },
 "nbformat": 4,
 "nbformat_minor": 2
}

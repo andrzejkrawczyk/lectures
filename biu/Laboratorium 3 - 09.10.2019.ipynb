{
 "cells": [
  {
   "cell_type": "markdown",
   "metadata": {},
   "source": [
    "* podział na komponenty (rodzic, dzieci, widoki) [1 pkt]\n",
    "* wydzielenie struktur danych do modeli [1 pkt]\n",
    "* wykorzystanie komunikacji rodzic<->dziecko [1 pkt]\n",
    "* poprawne typowanie (brak :any) [1 pkt]\n",
    "\n",
    "# Kalkulator zysku z faktury / działalności\n",
    "\n",
    "\n",
    "Faktura składa się z części netto i podatku VAT. Faktura brutto to część netto powiększona o %VAT.\n",
    "\n",
    "Przedsiębiorca płaci do US podatek VAT od faktur przychodowych. Może też zapłacić mniejszy VAT pomniejszając go o część VAT z  faktur kosztowych.\n",
    "\n",
    "Podatek dochodowy wylicza się na podstawie części netto pomniejszonej o pozycje kosztowe. Podatek dochodowy to % stawki z wyliczonego dochodu.\n",
    "\n",
    "\n",
    "\n",
    "\n",
    "\n",
    "* Podatek dochodowy - liniowy - 19% i progresywny 18% i 32%, możliwość wyboru z selecta [1 pkt]\n",
    "* Składka ZUS - 1316,97zł, w tym: \n",
    "* Ubezpieczenie społeczne 904,60zł (można odjąć od odliczania podatku dochodowego)\n",
    "* Ubezpieczenie zdrowotne (342,32zł) (nie można pomniejszyć tym podatku dochodowego)\n",
    "* VAT 23% i 8%, możliwość wyboru z selecta [1 pkt]\n",
    "* Dodawanie pozycji kosztowych [1 pkt]\n",
    "* Dodawanie wielu faktur [1 pkt]\n",
    "* Komponent do zapisywania faktur per miesiąc [1 pkt]\n",
    "* komponent do zamiany brutto <-> netto [1 pkt]\n",
    "* VAT jest odliczany 1:1 [1 pkt]\n",
    "* wyliczenie skali podatkowej -> przy podatku progresywnym (18% i 32%), kwota zysku powyżej progu 85 tys. jest opodatkowana 32%\n",
    "    1. dodanie ryczałtu dochodowego (17%), ale brak możliwości odliczania VAT'u [5 pkt]\n",
    "    2. możliwość definicji właśnych predefiniowanych faktur i używanie ich [5 pkt]\n",
    "    3. komponent predefiniowanych towarów. Możliwość użycia ich w fakturze [5 pkt]\n",
    "\n"
   ]
  }
 ],
 "metadata": {
  "kernelspec": {
   "display_name": "Python 2",
   "language": "python",
   "name": "python2"
  },
  "language_info": {
   "codemirror_mode": {
    "name": "ipython",
    "version": 2
   },
   "file_extension": ".py",
   "mimetype": "text/x-python",
   "name": "python",
   "nbconvert_exporter": "python",
   "pygments_lexer": "ipython2",
   "version": "2.7.15"
  }
 },
 "nbformat": 4,
 "nbformat_minor": 2
}

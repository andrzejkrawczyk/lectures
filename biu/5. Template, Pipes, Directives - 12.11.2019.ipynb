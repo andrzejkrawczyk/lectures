{
 "cells": [
  {
   "cell_type": "markdown",
   "metadata": {
    "slideshow": {
     "slide_type": "slide"
    }
   },
   "source": [
    "### Template expression\n",
    "* `{{ nazwa_property }}` - interpolacja property na wartość typu string do template'a. Wartość sprawdzana i konwertowana do string'a. Template Expression.\n",
    "* `{{ metoda_componentu() }}`\n",
    "* `[property]=\"template expression\"` - przy przypisywaniu property następuje interpolacja"
   ]
  },
  {
   "cell_type": "markdown",
   "metadata": {
    "slideshow": {
     "slide_type": "subslide"
    }
   },
   "source": [
    "* Brak wsparcia dla operatorów przypisania, new, typeof, instanceof, ';', ',', ++, -- \n",
    "* kontekst zależny czy jest to wywołanie na poziomie komponentu czy zagnieżdżenia np. *ngFor=\"let point of points\"\n",
    "* kontekst rozpatrywany od najbardziej wewnętrznego -> zmienna w template'cie, dyrektywa a na końcu component\n",
    "* nie powinny mieć side effectów, maksymalnie przypisanie property przez [property]=\"wartość\"\n",
    "* wartości **idempotent** - zwracają zawsze to samo dopóki nie zmieni się ich zależność\n",
    "* **ewaluacja wyrażenia: wykonywana w każdym cyklu change detection**"
   ]
  },
  {
   "cell_type": "markdown",
   "metadata": {
    "slideshow": {
     "slide_type": "subslide"
    }
   },
   "source": [
    "* template statement **`(click)=\"onClick()\"` - wyrażenie posiadające sideeffect\n",
    "* niemożliwość użycia operatorów przypisania, new, bitowych\n",
    "* przypisywanie do targetu - powinno być zawsze odpowiedniego typu\n",
    "* jeśli wymagane property jest typu innego niż string należy użyć `<img [src]=\"dane\">` aniżeli `<img src=\"{{ dane }}\">`"
   ]
  },
  {
   "cell_type": "markdown",
   "metadata": {
    "slideshow": {
     "slide_type": "slide"
    }
   },
   "source": [
    "* `:host {\n",
    "  display: block;\n",
    "  border: 1px solid black;\n",
    "}`\n",
    "* `:host-context(.theme-light) h2 {\n",
    "  background-color: #eef;\n",
    "}`"
   ]
  },
  {
   "cell_type": "markdown",
   "metadata": {
    "slideshow": {
     "slide_type": "slide"
    }
   },
   "source": [
    "### Pipes\n",
    "* domyślny sposób na formatowanie wartości wyświetlanych\n",
    "* możliwość podawania parametrów `wartosc | wycinek:1:5`\n",
    "* możliwość chainowania `wartosc | pipe1 | pipe2 | pipe3`\n",
    "* angular ma inny mechanizm do sprawdzania wartości gdy używamy pipe'ow - mniej kosztowny\n",
    "* async pipe"
   ]
  },
  {
   "cell_type": "code",
   "execution_count": null,
   "metadata": {
    "slideshow": {
     "slide_type": "subslide"
    }
   },
   "outputs": [],
   "source": [
    "import { Pipe, PipeTransform } from '@angular/core';\n",
    "/*\n",
    " * Changes single digit to roman digit\n",
    " * Usage:\n",
    " *   value | romanValue\n",
    " * Example:\n",
    " *   {{ 2 | romanValue }}\n",
    " *   formats to: II\n",
    "*/\n",
    "@Pipe({\n",
    "    name: 'romanValue',\n",
    "    pure: false | true\n",
    "})\n",
    "export class RomanValue implements PipeTransform {\n",
    "  transform(value: number, param?: string): string {\n",
    "    ...\n",
    "  }\n",
    "}"
   ]
  }
 ],
 "metadata": {
  "celltoolbar": "Slideshow",
  "kernelspec": {
   "display_name": "Python 2",
   "language": "python",
   "name": "python2"
  },
  "language_info": {
   "codemirror_mode": {
    "name": "ipython",
    "version": 2
   },
   "file_extension": ".py",
   "mimetype": "text/x-python",
   "name": "python",
   "nbconvert_exporter": "python",
   "pygments_lexer": "ipython2",
   "version": "2.7.15"
  }
 },
 "nbformat": 4,
 "nbformat_minor": 2
}

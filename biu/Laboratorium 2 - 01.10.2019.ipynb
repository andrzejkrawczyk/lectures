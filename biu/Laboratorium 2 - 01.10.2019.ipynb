{
 "cells": [
  {
   "cell_type": "markdown",
   "metadata": {},
   "source": [
    "Zdefiniuj interfejs List implementujący:\n",
    "\n",
    "add(val) // Dodanie na koniec listy elementu\n",
    "index(val) // znalezienie indeksu pierwszego elementu o danej wartości\n",
    "put(index, val) // dodanie danej wartości na daną pozycję\n",
    "search/find(val) // zwrocenie obiektu o danej wartosci\n",
    "remove(val) // usuniecie pierwszego elementu o danej wartosci\n",
    "pop(index?) // usuniecie ostatniego elementu / elementu z danej pozycji\n",
    "sumEvenVals() // suma liczb parzystych\n",
    "sumOdd() // suma liczb nieparzystych\n",
    "countEven() // liczba liczb parzystych\n",
    "countOdd() // liczba liczb nieparzystych\n",
    "map(f) // zwraca tablice, ktora ma nałożoną podaną funkcje"
   ]
  }
 ],
 "metadata": {
  "kernelspec": {
   "display_name": "Typescript 3.6",
   "language": "typescript",
   "name": "typescript"
  },
  "language_info": {
   "file_extension": ".ts",
   "mimetype": "application/x-typescript",
   "name": "typescript",
   "version": "3.6.3"
  }
 },
 "nbformat": 4,
 "nbformat_minor": 2
}
